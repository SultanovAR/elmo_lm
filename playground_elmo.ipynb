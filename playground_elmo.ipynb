{
 "cells": [
  {
   "cell_type": "code",
   "execution_count": 19,
   "metadata": {},
   "outputs": [],
   "source": [
    "from deeppavlov.models.bidirectional_lms import elmo_bilm\n",
    "from deeppavlov.models.tokenizers.lazy_tokenizer import LazyTokenizer"
   ]
  },
  {
   "cell_type": "code",
   "execution_count": 12,
   "metadata": {},
   "outputs": [
    {
     "name": "stdout",
     "output_type": "stream",
     "text": [
      "****************************************************************************************************\n",
      "/cephfs/home/sultanov/elmo_lm/lib/python3.6/site-packages/download/bidirectional_lms/elmo_en_news\n",
      "USING SKIP CONNECTIONS\n",
      "INFO:tensorflow:Restoring parameters from /cephfs/home/sultanov/elmo_lm/lib/python3.6/site-packages/download/bidirectional_lms/elmo_en_news/model.ckpt-935588\n"
     ]
    },
    {
     "name": "stderr",
     "output_type": "stream",
     "text": [
      "2018-10-11 14:53:33.234 INFO in 'tensorflow'['tf_logging'] at line 115: Restoring parameters from /cephfs/home/sultanov/elmo_lm/lib/python3.6/site-packages/download/bidirectional_lms/elmo_en_news/model.ckpt-935588\n"
     ]
    }
   ],
   "source": [
    "elmo = elmo_bilm.ELMoEmbedder(model_dir=\"/cephfs/home/sultanov/elmo_lm/lib/python3.6/site-packages/download/bidirectional_lms/elmo_en_news\")\n",
    "#lib/python3.6/site-packages/download/bidirectional_lms/elmo_en_news"
   ]
  },
  {
   "cell_type": "code",
   "execution_count": 20,
   "metadata": {},
   "outputs": [],
   "source": [
    "t = LazyTokenizer()"
   ]
  },
  {
   "cell_type": "code",
   "execution_count": 37,
   "metadata": {},
   "outputs": [
    {
     "data": {
      "text/plain": [
       "[['a', 'b', 'c'], ['d', 'g', 'f']]"
      ]
     },
     "execution_count": 37,
     "metadata": {},
     "output_type": "execute_result"
    }
   ],
   "source": [
    "t(['a b c', 'd g f'])"
   ]
  },
  {
   "cell_type": "code",
   "execution_count": 39,
   "metadata": {},
   "outputs": [
    {
     "data": {
      "text/plain": [
       "[['and', 'why', 'so'], ['and', 'what', 'happened']]"
      ]
     },
     "execution_count": 39,
     "metadata": {},
     "output_type": "execute_result"
    }
   ],
   "source": [
    "t(['and why so', 'and what happened'])"
   ]
  },
  {
   "cell_type": "code",
   "execution_count": 38,
   "metadata": {},
   "outputs": [
    {
     "data": {
      "text/plain": [
       "[array([[[2.84622329e-05, 1.77198992e-04, 5.62254246e-03, ...,\n",
       "          9.44463796e-09, 6.28794572e-09, 2.51157335e-08],\n",
       "         [4.34107496e-04, 3.17345373e-03, 1.48714734e-02, ...,\n",
       "          2.59674664e-08, 5.64178357e-08, 5.34324514e-08]],\n",
       " \n",
       "        [[7.85699831e-06, 9.95027003e-05, 1.17214676e-02, ...,\n",
       "          7.33582617e-09, 1.22952173e-08, 4.92693140e-08],\n",
       "         [1.31125664e-04, 3.62973521e-03, 2.53485423e-02, ...,\n",
       "          1.98395664e-08, 9.24430594e-08, 6.11271247e-08]],\n",
       " \n",
       "        [[6.74856783e-05, 2.11681734e-04, 2.82855332e-03, ...,\n",
       "          1.40867196e-09, 6.93605440e-09, 1.81090387e-09],\n",
       "         [1.07090118e-05, 1.12963067e-02, 4.59540961e-03, ...,\n",
       "          4.33573932e-09, 1.04887539e-08, 4.13853520e-08]]]),\n",
       " array([[[5.03394440e-05, 2.21376249e-04, 9.41497181e-03, ...,\n",
       "          1.05841922e-08, 8.93303653e-09, 9.10198708e-08],\n",
       "         [1.48757521e-04, 1.69711141e-03, 5.20951785e-02, ...,\n",
       "          7.27467366e-08, 6.54724772e-08, 4.46413218e-08]],\n",
       " \n",
       "        [[4.80452582e-04, 2.77662388e-04, 6.33760318e-02, ...,\n",
       "          4.26524338e-07, 1.61640159e-07, 9.83383259e-08],\n",
       "         [2.43764414e-04, 1.03576062e-03, 7.23882020e-02, ...,\n",
       "          9.41852818e-08, 1.59113824e-07, 1.86812613e-07]],\n",
       " \n",
       "        [[3.99110024e-04, 1.91492250e-03, 7.45538995e-02, ...,\n",
       "          2.39665212e-07, 1.21173201e-07, 1.11586125e-07],\n",
       "         [6.46030530e-05, 9.14576871e-04, 3.77734974e-02, ...,\n",
       "          1.58786442e-08, 4.64301397e-09, 7.49163007e-08]]])]"
      ]
     },
     "execution_count": 38,
     "metadata": {},
     "output_type": "execute_result"
    }
   ],
   "source": [
    "#elmo([['a']])\n",
    "elmo(t(['a b c', 'd g f']))"
   ]
  },
  {
   "cell_type": "code",
   "execution_count": 40,
   "metadata": {},
   "outputs": [
    {
     "data": {
      "text/plain": [
       "[array([[[1.66737700e-05, 1.11569418e-04, 6.12670835e-03, ...,\n",
       "          1.08130997e-08, 6.25581498e-09, 2.78832957e-08],\n",
       "         [5.78965319e-06, 5.71778859e-04, 4.14494006e-03, ...,\n",
       "          5.28953947e-09, 7.62084529e-09, 1.70715211e-08]],\n",
       " \n",
       "        [[2.20252459e-05, 1.87778394e-04, 1.13992132e-02, ...,\n",
       "          1.05838085e-08, 2.90179649e-08, 1.77207422e-08],\n",
       "         [4.04572074e-06, 2.76604755e-04, 4.09484189e-03, ...,\n",
       "          6.64875799e-09, 8.95458108e-09, 1.82447462e-08]],\n",
       " \n",
       "        [[1.87150617e-05, 3.93118353e-05, 1.61070121e-03, ...,\n",
       "          1.89015315e-09, 5.36461675e-09, 2.36510123e-09],\n",
       "         [1.42790432e-05, 1.94271766e-02, 5.15002711e-03, ...,\n",
       "          5.19561327e-09, 1.07981650e-08, 4.64231391e-08]]]),\n",
       " array([[[2.81854518e-05, 1.17547075e-04, 5.28212264e-03, ...,\n",
       "          6.01260330e-09, 3.92719679e-09, 1.89340899e-08],\n",
       "         [2.67991823e-07, 2.38426182e-05, 2.41339556e-03, ...,\n",
       "          1.32111744e-08, 1.55957807e-08, 1.47337087e-09]],\n",
       " \n",
       "        [[2.88737629e-05, 2.24775082e-04, 1.07964864e-02, ...,\n",
       "          1.03021165e-08, 2.62221125e-08, 1.72710060e-08],\n",
       "         [3.88361195e-06, 2.78294137e-05, 7.91646540e-04, ...,\n",
       "          2.78512347e-09, 2.11759432e-09, 3.70506098e-10]],\n",
       " \n",
       "        [[2.80835184e-06, 3.84441046e-05, 9.99634620e-04, ...,\n",
       "          3.52024054e-09, 2.83952262e-09, 1.55896895e-09],\n",
       "         [9.72160433e-06, 1.14401514e-02, 4.72419616e-03, ...,\n",
       "          4.93347008e-09, 1.04626388e-08, 4.65803112e-08]]])]"
      ]
     },
     "execution_count": 40,
     "metadata": {},
     "output_type": "execute_result"
    }
   ],
   "source": [
    "elmo(t(['and why so', 'and what happened']))"
   ]
  },
  {
   "cell_type": "code",
   "execution_count": 41,
   "metadata": {},
   "outputs": [
    {
     "ename": "UnboundLocalError",
     "evalue": "local variable 'k' referenced before assignment",
     "output_type": "error",
     "traceback": [
      "\u001b[0;31m---------------------------------------------------------------------------\u001b[0m",
      "\u001b[0;31mUnboundLocalError\u001b[0m                         Traceback (most recent call last)",
      "\u001b[0;32m<ipython-input-41-795a1ee9796c>\u001b[0m in \u001b[0;36m<module>\u001b[0;34m\u001b[0m\n\u001b[0;32m----> 1\u001b[0;31m \u001b[0melmo\u001b[0m\u001b[0;34m(\u001b[0m\u001b[0mt\u001b[0m\u001b[0;34m(\u001b[0m\u001b[0;34m[\u001b[0m\u001b[0;34m'Hi, how are you?'\u001b[0m\u001b[0;34m,\u001b[0m \u001b[0;34m'what do you do'\u001b[0m\u001b[0;34m]\u001b[0m\u001b[0;34m)\u001b[0m\u001b[0;34m)\u001b[0m\u001b[0;34m\u001b[0m\u001b[0m\n\u001b[0m",
      "\u001b[0;32m/cephfs/home/sultanov/elmo_lm/bidirectional_lms/deeppavlov/models/bidirectional_lms/elmo_bilm.py\u001b[0m in \u001b[0;36m__call__\u001b[0;34m(self, batch, *args, **kwargs)\u001b[0m\n\u001b[1;32m    200\u001b[0m             output_batch, init_state_values = self._mini_batch_fit(batch, \n\u001b[1;32m    201\u001b[0m                                                                             \u001b[0minit_state_tensors\u001b[0m\u001b[0;34m,\u001b[0m \u001b[0minit_state_values\u001b[0m\u001b[0;34m,\u001b[0m\u001b[0;34m\u001b[0m\u001b[0m\n\u001b[0;32m--> 202\u001b[0;31m                                                                             final_state_tensors, *args, **kwargs)\n\u001b[0m\u001b[1;32m    203\u001b[0m \u001b[0;34m\u001b[0m\u001b[0m\n\u001b[1;32m    204\u001b[0m         \u001b[0mself\u001b[0m\u001b[0;34m.\u001b[0m\u001b[0minit_states\u001b[0m \u001b[0;34m=\u001b[0m \u001b[0;34m(\u001b[0m\u001b[0minit_state_tensors\u001b[0m\u001b[0;34m,\u001b[0m \u001b[0minit_state_values\u001b[0m\u001b[0;34m,\u001b[0m \u001b[0mfinal_state_tensors\u001b[0m\u001b[0;34m)\u001b[0m\u001b[0;34m\u001b[0m\u001b[0m\n",
      "\u001b[0;32m/cephfs/home/sultanov/elmo_lm/bidirectional_lms/deeppavlov/core/models/tf_backend.py\u001b[0m in \u001b[0;36m_wrapped\u001b[0;34m(*args, **kwargs)\u001b[0m\n\u001b[1;32m     25\u001b[0m     \u001b[0;32mdef\u001b[0m \u001b[0m_wrapped\u001b[0m\u001b[0;34m(\u001b[0m\u001b[0;34m*\u001b[0m\u001b[0margs\u001b[0m\u001b[0;34m,\u001b[0m \u001b[0;34m**\u001b[0m\u001b[0mkwargs\u001b[0m\u001b[0;34m)\u001b[0m\u001b[0;34m:\u001b[0m\u001b[0;34m\u001b[0m\u001b[0m\n\u001b[1;32m     26\u001b[0m         \u001b[0;32mwith\u001b[0m \u001b[0mgraph\u001b[0m\u001b[0;34m.\u001b[0m\u001b[0mas_default\u001b[0m\u001b[0;34m(\u001b[0m\u001b[0;34m)\u001b[0m\u001b[0;34m:\u001b[0m\u001b[0;34m\u001b[0m\u001b[0m\n\u001b[0;32m---> 27\u001b[0;31m             \u001b[0;32mreturn\u001b[0m \u001b[0mfunc\u001b[0m\u001b[0;34m(\u001b[0m\u001b[0;34m*\u001b[0m\u001b[0margs\u001b[0m\u001b[0;34m,\u001b[0m \u001b[0;34m**\u001b[0m\u001b[0mkwargs\u001b[0m\u001b[0;34m)\u001b[0m\u001b[0;34m\u001b[0m\u001b[0m\n\u001b[0m\u001b[1;32m     28\u001b[0m     \u001b[0;32mreturn\u001b[0m \u001b[0m_wrapped\u001b[0m\u001b[0;34m\u001b[0m\u001b[0m\n\u001b[1;32m     29\u001b[0m \u001b[0;34m\u001b[0m\u001b[0m\n",
      "\u001b[0;32m/cephfs/home/sultanov/elmo_lm/bidirectional_lms/deeppavlov/models/bidirectional_lms/elmo_bilm.py\u001b[0m in \u001b[0;36m_mini_batch_fit\u001b[0;34m(self, batch, init_state_tensors, init_state_values, final_state_tensors, *args, **kwargs)\u001b[0m\n\u001b[1;32m    121\u001b[0m \u001b[0;34m\u001b[0m\u001b[0m\n\u001b[1;32m    122\u001b[0m         \u001b[0;31m# time major\u001b[0m\u001b[0;34m\u001b[0m\u001b[0;34m\u001b[0m\u001b[0m\n\u001b[0;32m--> 123\u001b[0;31m         \u001b[0mbatch\u001b[0m \u001b[0;34m=\u001b[0m \u001b[0mnp\u001b[0m\u001b[0;34m.\u001b[0m\u001b[0mexpand_dims\u001b[0m\u001b[0;34m(\u001b[0m\u001b[0mself\u001b[0m\u001b[0;34m.\u001b[0m\u001b[0mbatcher\u001b[0m\u001b[0;34m.\u001b[0m\u001b[0mbatch_sentences\u001b[0m\u001b[0;34m(\u001b[0m\u001b[0mbatch\u001b[0m\u001b[0;34m)\u001b[0m\u001b[0;34m.\u001b[0m\u001b[0mtranspose\u001b[0m\u001b[0;34m(\u001b[0m\u001b[0;36m1\u001b[0m\u001b[0;34m,\u001b[0m\u001b[0;36m0\u001b[0m\u001b[0;34m,\u001b[0m\u001b[0;36m2\u001b[0m\u001b[0;34m)\u001b[0m\u001b[0;34m,\u001b[0m \u001b[0maxis\u001b[0m\u001b[0;34m=\u001b[0m\u001b[0;36m2\u001b[0m\u001b[0;34m)\u001b[0m\u001b[0;34m\u001b[0m\u001b[0m\n\u001b[0m\u001b[1;32m    124\u001b[0m         \u001b[0mbatch_reverse\u001b[0m \u001b[0;34m=\u001b[0m \u001b[0mnp\u001b[0m\u001b[0;34m.\u001b[0m\u001b[0mexpand_dims\u001b[0m\u001b[0;34m(\u001b[0m\u001b[0mself\u001b[0m\u001b[0;34m.\u001b[0m\u001b[0mbatcher\u001b[0m\u001b[0;34m.\u001b[0m\u001b[0mbatch_sentences\u001b[0m\u001b[0;34m(\u001b[0m\u001b[0mbatch_reverse\u001b[0m\u001b[0;34m)\u001b[0m\u001b[0;34m.\u001b[0m\u001b[0mtranspose\u001b[0m\u001b[0;34m(\u001b[0m\u001b[0;36m1\u001b[0m\u001b[0;34m,\u001b[0m\u001b[0;36m0\u001b[0m\u001b[0;34m,\u001b[0m\u001b[0;36m2\u001b[0m\u001b[0;34m)\u001b[0m\u001b[0;34m,\u001b[0m \u001b[0maxis\u001b[0m\u001b[0;34m=\u001b[0m\u001b[0;36m2\u001b[0m\u001b[0;34m)\u001b[0m\u001b[0;34m\u001b[0m\u001b[0m\n\u001b[1;32m    125\u001b[0m \u001b[0;34m\u001b[0m\u001b[0m\n",
      "\u001b[0;32m/cephfs/home/sultanov/elmo_lm/bidirectional_lms/deeppavlov/models/bidirectional_lms/elmo/data.py\u001b[0m in \u001b[0;36mbatch_sentences\u001b[0;34m(self, sentences)\u001b[0m\n\u001b[1;32m     31\u001b[0m             \u001b[0mlength\u001b[0m \u001b[0;34m=\u001b[0m \u001b[0mlen\u001b[0m\u001b[0;34m(\u001b[0m\u001b[0msent\u001b[0m\u001b[0;34m)\u001b[0m \u001b[0;34m+\u001b[0m \u001b[0;36m2\u001b[0m\u001b[0;34m\u001b[0m\u001b[0m\n\u001b[1;32m     32\u001b[0m             char_ids_without_mask = self._lm_vocab.encode_chars(\n\u001b[0;32m---> 33\u001b[0;31m                 sent, split=False)\n\u001b[0m\u001b[1;32m     34\u001b[0m             \u001b[0;31m# add one so that 0 is the mask value\u001b[0m\u001b[0;34m\u001b[0m\u001b[0;34m\u001b[0m\u001b[0m\n\u001b[1;32m     35\u001b[0m             \u001b[0mX_char_ids\u001b[0m\u001b[0;34m[\u001b[0m\u001b[0mk\u001b[0m\u001b[0;34m,\u001b[0m \u001b[0;34m:\u001b[0m\u001b[0mlength\u001b[0m\u001b[0;34m,\u001b[0m \u001b[0;34m:\u001b[0m\u001b[0;34m]\u001b[0m \u001b[0;34m=\u001b[0m \u001b[0mchar_ids_without_mask\u001b[0m\u001b[0;34m\u001b[0m\u001b[0m\n",
      "\u001b[0;32m/cephfs/home/sultanov/elmo_lm/lib/python3.6/site-packages/bilm/data.py\u001b[0m in \u001b[0;36mencode_chars\u001b[0;34m(self, sentence, reverse, split)\u001b[0m\n\u001b[1;32m    184\u001b[0m         \u001b[0;32melse\u001b[0m\u001b[0;34m:\u001b[0m\u001b[0;34m\u001b[0m\u001b[0m\n\u001b[1;32m    185\u001b[0m             chars_ids = [self.word_to_char_ids(cur_word)\n\u001b[0;32m--> 186\u001b[0;31m                      for cur_word in sentence]\n\u001b[0m\u001b[1;32m    187\u001b[0m         \u001b[0;32mif\u001b[0m \u001b[0mreverse\u001b[0m\u001b[0;34m:\u001b[0m\u001b[0;34m\u001b[0m\u001b[0m\n\u001b[1;32m    188\u001b[0m             \u001b[0;32mreturn\u001b[0m \u001b[0mnp\u001b[0m\u001b[0;34m.\u001b[0m\u001b[0mvstack\u001b[0m\u001b[0;34m(\u001b[0m\u001b[0;34m[\u001b[0m\u001b[0mself\u001b[0m\u001b[0;34m.\u001b[0m\u001b[0meos_chars\u001b[0m\u001b[0;34m]\u001b[0m \u001b[0;34m+\u001b[0m \u001b[0mchars_ids\u001b[0m \u001b[0;34m+\u001b[0m \u001b[0;34m[\u001b[0m\u001b[0mself\u001b[0m\u001b[0;34m.\u001b[0m\u001b[0mbos_chars\u001b[0m\u001b[0;34m]\u001b[0m\u001b[0;34m)\u001b[0m\u001b[0;34m\u001b[0m\u001b[0m\n",
      "\u001b[0;32m/cephfs/home/sultanov/elmo_lm/lib/python3.6/site-packages/bilm/data.py\u001b[0m in \u001b[0;36m<listcomp>\u001b[0;34m(.0)\u001b[0m\n\u001b[1;32m    184\u001b[0m         \u001b[0;32melse\u001b[0m\u001b[0;34m:\u001b[0m\u001b[0;34m\u001b[0m\u001b[0m\n\u001b[1;32m    185\u001b[0m             chars_ids = [self.word_to_char_ids(cur_word)\n\u001b[0;32m--> 186\u001b[0;31m                      for cur_word in sentence]\n\u001b[0m\u001b[1;32m    187\u001b[0m         \u001b[0;32mif\u001b[0m \u001b[0mreverse\u001b[0m\u001b[0;34m:\u001b[0m\u001b[0;34m\u001b[0m\u001b[0m\n\u001b[1;32m    188\u001b[0m             \u001b[0;32mreturn\u001b[0m \u001b[0mnp\u001b[0m\u001b[0;34m.\u001b[0m\u001b[0mvstack\u001b[0m\u001b[0;34m(\u001b[0m\u001b[0;34m[\u001b[0m\u001b[0mself\u001b[0m\u001b[0;34m.\u001b[0m\u001b[0meos_chars\u001b[0m\u001b[0;34m]\u001b[0m \u001b[0;34m+\u001b[0m \u001b[0mchars_ids\u001b[0m \u001b[0;34m+\u001b[0m \u001b[0;34m[\u001b[0m\u001b[0mself\u001b[0m\u001b[0;34m.\u001b[0m\u001b[0mbos_chars\u001b[0m\u001b[0;34m]\u001b[0m\u001b[0;34m)\u001b[0m\u001b[0;34m\u001b[0m\u001b[0m\n",
      "\u001b[0;32m/cephfs/home/sultanov/elmo_lm/lib/python3.6/site-packages/bilm/data.py\u001b[0m in \u001b[0;36mword_to_char_ids\u001b[0;34m(self, word)\u001b[0m\n\u001b[1;32m    173\u001b[0m             \u001b[0;32mreturn\u001b[0m \u001b[0mself\u001b[0m\u001b[0;34m.\u001b[0m\u001b[0m_word_char_ids\u001b[0m\u001b[0;34m[\u001b[0m\u001b[0mself\u001b[0m\u001b[0;34m.\u001b[0m\u001b[0m_word_to_id\u001b[0m\u001b[0;34m[\u001b[0m\u001b[0mword\u001b[0m\u001b[0;34m]\u001b[0m\u001b[0;34m]\u001b[0m\u001b[0;34m\u001b[0m\u001b[0m\n\u001b[1;32m    174\u001b[0m         \u001b[0;32melse\u001b[0m\u001b[0;34m:\u001b[0m\u001b[0;34m\u001b[0m\u001b[0m\n\u001b[0;32m--> 175\u001b[0;31m             \u001b[0;32mreturn\u001b[0m \u001b[0mself\u001b[0m\u001b[0;34m.\u001b[0m\u001b[0m_convert_word_to_char_ids\u001b[0m\u001b[0;34m(\u001b[0m\u001b[0mword\u001b[0m\u001b[0;34m)\u001b[0m\u001b[0;34m\u001b[0m\u001b[0m\n\u001b[0m\u001b[1;32m    176\u001b[0m \u001b[0;34m\u001b[0m\u001b[0m\n\u001b[1;32m    177\u001b[0m     \u001b[0;32mdef\u001b[0m \u001b[0mencode_chars\u001b[0m\u001b[0;34m(\u001b[0m\u001b[0mself\u001b[0m\u001b[0;34m,\u001b[0m \u001b[0msentence\u001b[0m\u001b[0;34m,\u001b[0m \u001b[0mreverse\u001b[0m\u001b[0;34m=\u001b[0m\u001b[0;32mFalse\u001b[0m\u001b[0;34m,\u001b[0m \u001b[0msplit\u001b[0m\u001b[0;34m=\u001b[0m\u001b[0;32mTrue\u001b[0m\u001b[0;34m)\u001b[0m\u001b[0;34m:\u001b[0m\u001b[0;34m\u001b[0m\u001b[0m\n",
      "\u001b[0;32m/cephfs/home/sultanov/elmo_lm/lib/python3.6/site-packages/bilm/data.py\u001b[0m in \u001b[0;36m_convert_word_to_char_ids\u001b[0;34m(self, word)\u001b[0m\n\u001b[1;32m    165\u001b[0m         \u001b[0;32mfor\u001b[0m \u001b[0mk\u001b[0m\u001b[0;34m,\u001b[0m \u001b[0mchr_id\u001b[0m \u001b[0;32min\u001b[0m \u001b[0menumerate\u001b[0m\u001b[0;34m(\u001b[0m\u001b[0mword_encoded\u001b[0m\u001b[0;34m,\u001b[0m \u001b[0mstart\u001b[0m\u001b[0;34m=\u001b[0m\u001b[0;36m1\u001b[0m\u001b[0;34m)\u001b[0m\u001b[0;34m:\u001b[0m\u001b[0;34m\u001b[0m\u001b[0m\n\u001b[1;32m    166\u001b[0m             \u001b[0mcode\u001b[0m\u001b[0;34m[\u001b[0m\u001b[0mk\u001b[0m\u001b[0;34m]\u001b[0m \u001b[0;34m=\u001b[0m \u001b[0mchr_id\u001b[0m\u001b[0;34m\u001b[0m\u001b[0m\n\u001b[0;32m--> 167\u001b[0;31m         \u001b[0mcode\u001b[0m\u001b[0;34m[\u001b[0m\u001b[0mk\u001b[0m \u001b[0;34m+\u001b[0m \u001b[0;36m1\u001b[0m\u001b[0;34m]\u001b[0m \u001b[0;34m=\u001b[0m \u001b[0mself\u001b[0m\u001b[0;34m.\u001b[0m\u001b[0meow_char\u001b[0m\u001b[0;34m\u001b[0m\u001b[0m\n\u001b[0m\u001b[1;32m    168\u001b[0m \u001b[0;34m\u001b[0m\u001b[0m\n\u001b[1;32m    169\u001b[0m         \u001b[0;32mreturn\u001b[0m \u001b[0mcode\u001b[0m\u001b[0;34m\u001b[0m\u001b[0m\n",
      "\u001b[0;31mUnboundLocalError\u001b[0m: local variable 'k' referenced before assignment"
     ]
    }
   ],
   "source": [
    "elmo(t(['Hi, how are you?', 'what do you do']))"
   ]
  },
  {
   "cell_type": "code",
   "execution_count": 43,
   "metadata": {},
   "outputs": [
    {
     "data": {
      "text/plain": [
       "[array([[[2.17000343e-05, 1.49143510e-04, 6.40420942e-03, ...,\n",
       "          1.27925048e-08, 7.19933313e-09, 3.18033813e-08],\n",
       "         [1.65112906e-05, 7.67825113e-05, 8.93104170e-03, ...,\n",
       "          1.12595062e-08, 8.92046792e-09, 1.79846271e-08]],\n",
       " \n",
       "        [[1.40920485e-04, 6.62630831e-04, 9.88943130e-03, ...,\n",
       "          1.53639643e-08, 1.29751960e-08, 6.22007157e-09],\n",
       "         [3.19466312e-06, 3.15236248e-04, 5.00303088e-03, ...,\n",
       "          7.22853288e-09, 7.68109576e-09, 1.11516547e-08]],\n",
       " \n",
       "        [[1.10588371e-04, 2.36198757e-04, 1.52180605e-02, ...,\n",
       "          6.94617697e-09, 5.24836219e-09, 1.06984723e-08],\n",
       "         [1.62987253e-05, 1.97106026e-04, 4.86085471e-03, ...,\n",
       "          8.42089776e-09, 9.19665499e-09, 6.56686394e-09]],\n",
       " \n",
       "        [[3.60737295e-06, 1.89861021e-05, 1.45755848e-03, ...,\n",
       "          8.19638912e-10, 1.53805468e-09, 7.68055064e-10],\n",
       "         [1.33611347e-05, 1.29184602e-02, 4.63332748e-03, ...,\n",
       "          4.90104979e-09, 1.05802211e-08, 4.95773165e-08]]]),\n",
       " array([[[2.81494467e-05, 1.48475650e-04, 4.85175708e-03, ...,\n",
       "          7.34089989e-09, 5.20399812e-09, 2.09199573e-08],\n",
       "         [3.45492845e-06, 6.04276938e-05, 1.83775164e-02, ...,\n",
       "          7.22204607e-09, 4.69333905e-09, 9.09644449e-09]],\n",
       " \n",
       "        [[1.86263480e-06, 4.25559701e-05, 1.10896432e-03, ...,\n",
       "          4.33360370e-09, 1.91078420e-09, 1.66118863e-09],\n",
       "         [5.95982692e-06, 9.62363702e-05, 2.15739617e-03, ...,\n",
       "          6.76053746e-09, 1.61113389e-09, 1.46528756e-09]],\n",
       " \n",
       "        [[1.82152951e-06, 9.57852626e-06, 7.62094569e-04, ...,\n",
       "          4.90744467e-09, 4.39017001e-09, 1.08781084e-09],\n",
       "         [1.37307925e-05, 3.01559077e-04, 1.32862199e-02, ...,\n",
       "          1.02324442e-08, 2.26283738e-08, 1.29722562e-08]],\n",
       " \n",
       "        [[7.28694999e-07, 5.25144969e-06, 5.64922055e-04, ...,\n",
       "          5.06639564e-10, 5.78705361e-10, 6.71900535e-10],\n",
       "         [1.33628237e-05, 1.47341443e-02, 4.63887816e-03, ...,\n",
       "          4.79530105e-09, 9.61637880e-09, 4.59208174e-08]]])]"
      ]
     },
     "execution_count": 43,
     "metadata": {},
     "output_type": "execute_result"
    }
   ],
   "source": [
    "elmo(t(['Hi, how are', 'what do you do']))"
   ]
  },
  {
   "cell_type": "code",
   "execution_count": 45,
   "metadata": {},
   "outputs": [
    {
     "ename": "UnboundLocalError",
     "evalue": "local variable 'k' referenced before assignment",
     "output_type": "error",
     "traceback": [
      "\u001b[0;31m---------------------------------------------------------------------------\u001b[0m",
      "\u001b[0;31mUnboundLocalError\u001b[0m                         Traceback (most recent call last)",
      "\u001b[0;32m<ipython-input-45-d042d7dec779>\u001b[0m in \u001b[0;36m<module>\u001b[0;34m\u001b[0m\n\u001b[0;32m----> 1\u001b[0;31m \u001b[0melmo\u001b[0m\u001b[0;34m(\u001b[0m\u001b[0mt\u001b[0m\u001b[0;34m(\u001b[0m\u001b[0;34m[\u001b[0m\u001b[0;34m'Hi, how are a'\u001b[0m\u001b[0;34m,\u001b[0m \u001b[0;34m'what do you do'\u001b[0m\u001b[0;34m]\u001b[0m\u001b[0;34m)\u001b[0m\u001b[0;34m)\u001b[0m\u001b[0;34m\u001b[0m\u001b[0m\n\u001b[0m",
      "\u001b[0;32m/cephfs/home/sultanov/elmo_lm/bidirectional_lms/deeppavlov/models/bidirectional_lms/elmo_bilm.py\u001b[0m in \u001b[0;36m__call__\u001b[0;34m(self, batch, *args, **kwargs)\u001b[0m\n\u001b[1;32m    200\u001b[0m             output_batch, init_state_values = self._mini_batch_fit(batch, \n\u001b[1;32m    201\u001b[0m                                                                             \u001b[0minit_state_tensors\u001b[0m\u001b[0;34m,\u001b[0m \u001b[0minit_state_values\u001b[0m\u001b[0;34m,\u001b[0m\u001b[0;34m\u001b[0m\u001b[0m\n\u001b[0;32m--> 202\u001b[0;31m                                                                             final_state_tensors, *args, **kwargs)\n\u001b[0m\u001b[1;32m    203\u001b[0m \u001b[0;34m\u001b[0m\u001b[0m\n\u001b[1;32m    204\u001b[0m         \u001b[0mself\u001b[0m\u001b[0;34m.\u001b[0m\u001b[0minit_states\u001b[0m \u001b[0;34m=\u001b[0m \u001b[0;34m(\u001b[0m\u001b[0minit_state_tensors\u001b[0m\u001b[0;34m,\u001b[0m \u001b[0minit_state_values\u001b[0m\u001b[0;34m,\u001b[0m \u001b[0mfinal_state_tensors\u001b[0m\u001b[0;34m)\u001b[0m\u001b[0;34m\u001b[0m\u001b[0m\n",
      "\u001b[0;32m/cephfs/home/sultanov/elmo_lm/bidirectional_lms/deeppavlov/core/models/tf_backend.py\u001b[0m in \u001b[0;36m_wrapped\u001b[0;34m(*args, **kwargs)\u001b[0m\n\u001b[1;32m     25\u001b[0m     \u001b[0;32mdef\u001b[0m \u001b[0m_wrapped\u001b[0m\u001b[0;34m(\u001b[0m\u001b[0;34m*\u001b[0m\u001b[0margs\u001b[0m\u001b[0;34m,\u001b[0m \u001b[0;34m**\u001b[0m\u001b[0mkwargs\u001b[0m\u001b[0;34m)\u001b[0m\u001b[0;34m:\u001b[0m\u001b[0;34m\u001b[0m\u001b[0m\n\u001b[1;32m     26\u001b[0m         \u001b[0;32mwith\u001b[0m \u001b[0mgraph\u001b[0m\u001b[0;34m.\u001b[0m\u001b[0mas_default\u001b[0m\u001b[0;34m(\u001b[0m\u001b[0;34m)\u001b[0m\u001b[0;34m:\u001b[0m\u001b[0;34m\u001b[0m\u001b[0m\n\u001b[0;32m---> 27\u001b[0;31m             \u001b[0;32mreturn\u001b[0m \u001b[0mfunc\u001b[0m\u001b[0;34m(\u001b[0m\u001b[0;34m*\u001b[0m\u001b[0margs\u001b[0m\u001b[0;34m,\u001b[0m \u001b[0;34m**\u001b[0m\u001b[0mkwargs\u001b[0m\u001b[0;34m)\u001b[0m\u001b[0;34m\u001b[0m\u001b[0m\n\u001b[0m\u001b[1;32m     28\u001b[0m     \u001b[0;32mreturn\u001b[0m \u001b[0m_wrapped\u001b[0m\u001b[0;34m\u001b[0m\u001b[0m\n\u001b[1;32m     29\u001b[0m \u001b[0;34m\u001b[0m\u001b[0m\n",
      "\u001b[0;32m/cephfs/home/sultanov/elmo_lm/bidirectional_lms/deeppavlov/models/bidirectional_lms/elmo_bilm.py\u001b[0m in \u001b[0;36m_mini_batch_fit\u001b[0;34m(self, batch, init_state_tensors, init_state_values, final_state_tensors, *args, **kwargs)\u001b[0m\n\u001b[1;32m    121\u001b[0m \u001b[0;34m\u001b[0m\u001b[0m\n\u001b[1;32m    122\u001b[0m         \u001b[0;31m# time major\u001b[0m\u001b[0;34m\u001b[0m\u001b[0;34m\u001b[0m\u001b[0m\n\u001b[0;32m--> 123\u001b[0;31m         \u001b[0mbatch\u001b[0m \u001b[0;34m=\u001b[0m \u001b[0mnp\u001b[0m\u001b[0;34m.\u001b[0m\u001b[0mexpand_dims\u001b[0m\u001b[0;34m(\u001b[0m\u001b[0mself\u001b[0m\u001b[0;34m.\u001b[0m\u001b[0mbatcher\u001b[0m\u001b[0;34m.\u001b[0m\u001b[0mbatch_sentences\u001b[0m\u001b[0;34m(\u001b[0m\u001b[0mbatch\u001b[0m\u001b[0;34m)\u001b[0m\u001b[0;34m.\u001b[0m\u001b[0mtranspose\u001b[0m\u001b[0;34m(\u001b[0m\u001b[0;36m1\u001b[0m\u001b[0;34m,\u001b[0m\u001b[0;36m0\u001b[0m\u001b[0;34m,\u001b[0m\u001b[0;36m2\u001b[0m\u001b[0;34m)\u001b[0m\u001b[0;34m,\u001b[0m \u001b[0maxis\u001b[0m\u001b[0;34m=\u001b[0m\u001b[0;36m2\u001b[0m\u001b[0;34m)\u001b[0m\u001b[0;34m\u001b[0m\u001b[0m\n\u001b[0m\u001b[1;32m    124\u001b[0m         \u001b[0mbatch_reverse\u001b[0m \u001b[0;34m=\u001b[0m \u001b[0mnp\u001b[0m\u001b[0;34m.\u001b[0m\u001b[0mexpand_dims\u001b[0m\u001b[0;34m(\u001b[0m\u001b[0mself\u001b[0m\u001b[0;34m.\u001b[0m\u001b[0mbatcher\u001b[0m\u001b[0;34m.\u001b[0m\u001b[0mbatch_sentences\u001b[0m\u001b[0;34m(\u001b[0m\u001b[0mbatch_reverse\u001b[0m\u001b[0;34m)\u001b[0m\u001b[0;34m.\u001b[0m\u001b[0mtranspose\u001b[0m\u001b[0;34m(\u001b[0m\u001b[0;36m1\u001b[0m\u001b[0;34m,\u001b[0m\u001b[0;36m0\u001b[0m\u001b[0;34m,\u001b[0m\u001b[0;36m2\u001b[0m\u001b[0;34m)\u001b[0m\u001b[0;34m,\u001b[0m \u001b[0maxis\u001b[0m\u001b[0;34m=\u001b[0m\u001b[0;36m2\u001b[0m\u001b[0;34m)\u001b[0m\u001b[0;34m\u001b[0m\u001b[0m\n\u001b[1;32m    125\u001b[0m \u001b[0;34m\u001b[0m\u001b[0m\n",
      "\u001b[0;32m/cephfs/home/sultanov/elmo_lm/bidirectional_lms/deeppavlov/models/bidirectional_lms/elmo/data.py\u001b[0m in \u001b[0;36mbatch_sentences\u001b[0;34m(self, sentences)\u001b[0m\n\u001b[1;32m     31\u001b[0m             \u001b[0mlength\u001b[0m \u001b[0;34m=\u001b[0m \u001b[0mlen\u001b[0m\u001b[0;34m(\u001b[0m\u001b[0msent\u001b[0m\u001b[0;34m)\u001b[0m \u001b[0;34m+\u001b[0m \u001b[0;36m2\u001b[0m\u001b[0;34m\u001b[0m\u001b[0m\n\u001b[1;32m     32\u001b[0m             char_ids_without_mask = self._lm_vocab.encode_chars(\n\u001b[0;32m---> 33\u001b[0;31m                 sent, split=False)\n\u001b[0m\u001b[1;32m     34\u001b[0m             \u001b[0;31m# add one so that 0 is the mask value\u001b[0m\u001b[0;34m\u001b[0m\u001b[0;34m\u001b[0m\u001b[0m\n\u001b[1;32m     35\u001b[0m             \u001b[0mX_char_ids\u001b[0m\u001b[0;34m[\u001b[0m\u001b[0mk\u001b[0m\u001b[0;34m,\u001b[0m \u001b[0;34m:\u001b[0m\u001b[0mlength\u001b[0m\u001b[0;34m,\u001b[0m \u001b[0;34m:\u001b[0m\u001b[0;34m]\u001b[0m \u001b[0;34m=\u001b[0m \u001b[0mchar_ids_without_mask\u001b[0m\u001b[0;34m\u001b[0m\u001b[0m\n",
      "\u001b[0;32m/cephfs/home/sultanov/elmo_lm/lib/python3.6/site-packages/bilm/data.py\u001b[0m in \u001b[0;36mencode_chars\u001b[0;34m(self, sentence, reverse, split)\u001b[0m\n\u001b[1;32m    184\u001b[0m         \u001b[0;32melse\u001b[0m\u001b[0;34m:\u001b[0m\u001b[0;34m\u001b[0m\u001b[0m\n\u001b[1;32m    185\u001b[0m             chars_ids = [self.word_to_char_ids(cur_word)\n\u001b[0;32m--> 186\u001b[0;31m                      for cur_word in sentence]\n\u001b[0m\u001b[1;32m    187\u001b[0m         \u001b[0;32mif\u001b[0m \u001b[0mreverse\u001b[0m\u001b[0;34m:\u001b[0m\u001b[0;34m\u001b[0m\u001b[0m\n\u001b[1;32m    188\u001b[0m             \u001b[0;32mreturn\u001b[0m \u001b[0mnp\u001b[0m\u001b[0;34m.\u001b[0m\u001b[0mvstack\u001b[0m\u001b[0;34m(\u001b[0m\u001b[0;34m[\u001b[0m\u001b[0mself\u001b[0m\u001b[0;34m.\u001b[0m\u001b[0meos_chars\u001b[0m\u001b[0;34m]\u001b[0m \u001b[0;34m+\u001b[0m \u001b[0mchars_ids\u001b[0m \u001b[0;34m+\u001b[0m \u001b[0;34m[\u001b[0m\u001b[0mself\u001b[0m\u001b[0;34m.\u001b[0m\u001b[0mbos_chars\u001b[0m\u001b[0;34m]\u001b[0m\u001b[0;34m)\u001b[0m\u001b[0;34m\u001b[0m\u001b[0m\n",
      "\u001b[0;32m/cephfs/home/sultanov/elmo_lm/lib/python3.6/site-packages/bilm/data.py\u001b[0m in \u001b[0;36m<listcomp>\u001b[0;34m(.0)\u001b[0m\n\u001b[1;32m    184\u001b[0m         \u001b[0;32melse\u001b[0m\u001b[0;34m:\u001b[0m\u001b[0;34m\u001b[0m\u001b[0m\n\u001b[1;32m    185\u001b[0m             chars_ids = [self.word_to_char_ids(cur_word)\n\u001b[0;32m--> 186\u001b[0;31m                      for cur_word in sentence]\n\u001b[0m\u001b[1;32m    187\u001b[0m         \u001b[0;32mif\u001b[0m \u001b[0mreverse\u001b[0m\u001b[0;34m:\u001b[0m\u001b[0;34m\u001b[0m\u001b[0m\n\u001b[1;32m    188\u001b[0m             \u001b[0;32mreturn\u001b[0m \u001b[0mnp\u001b[0m\u001b[0;34m.\u001b[0m\u001b[0mvstack\u001b[0m\u001b[0;34m(\u001b[0m\u001b[0;34m[\u001b[0m\u001b[0mself\u001b[0m\u001b[0;34m.\u001b[0m\u001b[0meos_chars\u001b[0m\u001b[0;34m]\u001b[0m \u001b[0;34m+\u001b[0m \u001b[0mchars_ids\u001b[0m \u001b[0;34m+\u001b[0m \u001b[0;34m[\u001b[0m\u001b[0mself\u001b[0m\u001b[0;34m.\u001b[0m\u001b[0mbos_chars\u001b[0m\u001b[0;34m]\u001b[0m\u001b[0;34m)\u001b[0m\u001b[0;34m\u001b[0m\u001b[0m\n",
      "\u001b[0;32m/cephfs/home/sultanov/elmo_lm/lib/python3.6/site-packages/bilm/data.py\u001b[0m in \u001b[0;36mword_to_char_ids\u001b[0;34m(self, word)\u001b[0m\n\u001b[1;32m    173\u001b[0m             \u001b[0;32mreturn\u001b[0m \u001b[0mself\u001b[0m\u001b[0;34m.\u001b[0m\u001b[0m_word_char_ids\u001b[0m\u001b[0;34m[\u001b[0m\u001b[0mself\u001b[0m\u001b[0;34m.\u001b[0m\u001b[0m_word_to_id\u001b[0m\u001b[0;34m[\u001b[0m\u001b[0mword\u001b[0m\u001b[0;34m]\u001b[0m\u001b[0;34m]\u001b[0m\u001b[0;34m\u001b[0m\u001b[0m\n\u001b[1;32m    174\u001b[0m         \u001b[0;32melse\u001b[0m\u001b[0;34m:\u001b[0m\u001b[0;34m\u001b[0m\u001b[0m\n\u001b[0;32m--> 175\u001b[0;31m             \u001b[0;32mreturn\u001b[0m \u001b[0mself\u001b[0m\u001b[0;34m.\u001b[0m\u001b[0m_convert_word_to_char_ids\u001b[0m\u001b[0;34m(\u001b[0m\u001b[0mword\u001b[0m\u001b[0;34m)\u001b[0m\u001b[0;34m\u001b[0m\u001b[0m\n\u001b[0m\u001b[1;32m    176\u001b[0m \u001b[0;34m\u001b[0m\u001b[0m\n\u001b[1;32m    177\u001b[0m     \u001b[0;32mdef\u001b[0m \u001b[0mencode_chars\u001b[0m\u001b[0;34m(\u001b[0m\u001b[0mself\u001b[0m\u001b[0;34m,\u001b[0m \u001b[0msentence\u001b[0m\u001b[0;34m,\u001b[0m \u001b[0mreverse\u001b[0m\u001b[0;34m=\u001b[0m\u001b[0;32mFalse\u001b[0m\u001b[0;34m,\u001b[0m \u001b[0msplit\u001b[0m\u001b[0;34m=\u001b[0m\u001b[0;32mTrue\u001b[0m\u001b[0;34m)\u001b[0m\u001b[0;34m:\u001b[0m\u001b[0;34m\u001b[0m\u001b[0m\n",
      "\u001b[0;32m/cephfs/home/sultanov/elmo_lm/lib/python3.6/site-packages/bilm/data.py\u001b[0m in \u001b[0;36m_convert_word_to_char_ids\u001b[0;34m(self, word)\u001b[0m\n\u001b[1;32m    165\u001b[0m         \u001b[0;32mfor\u001b[0m \u001b[0mk\u001b[0m\u001b[0;34m,\u001b[0m \u001b[0mchr_id\u001b[0m \u001b[0;32min\u001b[0m \u001b[0menumerate\u001b[0m\u001b[0;34m(\u001b[0m\u001b[0mword_encoded\u001b[0m\u001b[0;34m,\u001b[0m \u001b[0mstart\u001b[0m\u001b[0;34m=\u001b[0m\u001b[0;36m1\u001b[0m\u001b[0;34m)\u001b[0m\u001b[0;34m:\u001b[0m\u001b[0;34m\u001b[0m\u001b[0m\n\u001b[1;32m    166\u001b[0m             \u001b[0mcode\u001b[0m\u001b[0;34m[\u001b[0m\u001b[0mk\u001b[0m\u001b[0;34m]\u001b[0m \u001b[0;34m=\u001b[0m \u001b[0mchr_id\u001b[0m\u001b[0;34m\u001b[0m\u001b[0m\n\u001b[0;32m--> 167\u001b[0;31m         \u001b[0mcode\u001b[0m\u001b[0;34m[\u001b[0m\u001b[0mk\u001b[0m \u001b[0;34m+\u001b[0m \u001b[0;36m1\u001b[0m\u001b[0;34m]\u001b[0m \u001b[0;34m=\u001b[0m \u001b[0mself\u001b[0m\u001b[0;34m.\u001b[0m\u001b[0meow_char\u001b[0m\u001b[0;34m\u001b[0m\u001b[0m\n\u001b[0m\u001b[1;32m    168\u001b[0m \u001b[0;34m\u001b[0m\u001b[0m\n\u001b[1;32m    169\u001b[0m         \u001b[0;32mreturn\u001b[0m \u001b[0mcode\u001b[0m\u001b[0;34m\u001b[0m\u001b[0m\n",
      "\u001b[0;31mUnboundLocalError\u001b[0m: local variable 'k' referenced before assignment"
     ]
    }
   ],
   "source": [
    "elmo(t(['Hi, how are a', 'what do you do']))"
   ]
  },
  {
   "cell_type": "code",
   "execution_count": null,
   "metadata": {},
   "outputs": [],
   "source": []
  }
 ],
 "metadata": {
  "kernelspec": {
   "display_name": "Python 3",
   "language": "python",
   "name": "python3"
  },
  "language_info": {
   "codemirror_mode": {
    "name": "ipython",
    "version": 3
   },
   "file_extension": ".py",
   "mimetype": "text/x-python",
   "name": "python",
   "nbconvert_exporter": "python",
   "pygments_lexer": "ipython3",
   "version": "3.6.5"
  }
 },
 "nbformat": 4,
 "nbformat_minor": 2
}
