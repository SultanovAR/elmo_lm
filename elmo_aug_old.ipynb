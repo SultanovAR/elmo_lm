{
 "cells": [
  {
   "cell_type": "code",
   "execution_count": 1,
   "metadata": {},
   "outputs": [
    {
     "name": "stderr",
     "output_type": "stream",
     "text": [
      "[nltk_data] Downloading package punkt to /home/sultanov/nltk_data...\n",
      "[nltk_data]   Package punkt is already up-to-date!\n",
      "[nltk_data] Downloading package stopwords to\n",
      "[nltk_data]     /home/sultanov/nltk_data...\n",
      "[nltk_data]   Package stopwords is already up-to-date!\n",
      "[nltk_data] Downloading package perluniprops to\n",
      "[nltk_data]     /home/sultanov/nltk_data...\n",
      "[nltk_data]   Package perluniprops is already up-to-date!\n",
      "[nltk_data] Downloading package nonbreaking_prefixes to\n",
      "[nltk_data]     /home/sultanov/nltk_data...\n",
      "[nltk_data]   Package nonbreaking_prefixes is already up-to-date!\n"
     ]
    }
   ],
   "source": [
    "from deeppavlov.models.bidirectional_lms import elmo_bilm\n",
    "from deeppavlov.models.tokenizers.lazy_tokenizer import LazyTokenizer\n",
    "from nltk.tokenize.moses import MosesDetokenizer\n",
    "import numpy as np\n",
    "from typing import List\n",
    "from scipy.stats import kurtosis\n",
    "\n",
    "\n",
    "import pandas as pd"
   ]
  },
  {
   "cell_type": "code",
   "execution_count": 2,
   "metadata": {},
   "outputs": [],
   "source": [
    "class ElmoAug:\n",
    "    \n",
    "    def __init__(self, model_dir=\"/cephfs/home/sultanov/elmo_lm/lib/python3.6/site-packages/download/bidirectional_lms/elmo_en_news\"):\n",
    "        self.tokenizer = LazyTokenizer()\n",
    "        self.elmo_lm   = elmo_bilm.ELMoEmbedder(model_dir=model_dir)\n",
    "        self.detokenizer = MosesDetokenizer()\n",
    "        self.tmp_logger = []\n",
    "        self.logger = []\n",
    "        \n",
    "    def _multi_argmax(self, values: np.ndarray, n_instances: int = 1) -> np.ndarray:\n",
    "        \"\"\"\n",
    "        Selects the indices of the n_instances highest values.\n",
    "        Args:\n",
    "            values: Contains the values to be selected from.\n",
    "            n_instances: Specifies how many indices to return.\n",
    "        Returns:\n",
    "            Contains the indices of the n_instances largest values.\n",
    "        \"\"\"\n",
    "        assert n_instances <= values.shape[0], 'n_instances must be less or equal than the size of utility'\n",
    "\n",
    "        max_idx = np.argpartition(-values, n_instances-1, axis=0)[:n_instances]\n",
    "        return max_idx\n",
    "    \n",
    "    def _weighted_sum_distr_by_posistion_in_sent(self, distr):\n",
    "        weights = (np.arange(len(distr)) + 0.5)/len(distr)\n",
    "        left = distr[:,0,:]\n",
    "        right = distr[:,1,:]\n",
    "        right = right.transpose([1, 0]) * (1-weights)\n",
    "        right = right.transpose([1, 0])\n",
    "        left = left.transpose([1, 0]) * weights\n",
    "        left = left.transpose([1, 0])\n",
    "        return right + left\n",
    "    \n",
    "    def _select_informative_context(self, distr, num_method):\n",
    "        \"\"\"\n",
    "        method 0:\n",
    "            Kurtosis\n",
    "        method 1:\n",
    "            maximum\n",
    "        method 2:\n",
    "            minimum along top words\n",
    "        method 3: random\n",
    "        \"\"\"\n",
    "        left = distr[:, 0, :]\n",
    "        right = distr[:, 1, :]\n",
    "        \n",
    "        if num_method == 0:\n",
    "            method_func = lambda x: kurtosis(x)\n",
    "        if num_method == 1:\n",
    "            method_func = lambda x: np.max(x)\n",
    "        if num_method == 2:\n",
    "            method_func = lambda x: np.msort(x)[-5]###5??????\n",
    "        if num_method == 3:\n",
    "            return np.array([left[i] if np.random.randint(0, 2) else right[i] for i in range(len(distr))])\n",
    "            \n",
    "        \n",
    "        result_distr = []\n",
    "        left_func_values = [method_func(l) for l in left]\n",
    "        right_func_values = [method_func(r) for r in right]\n",
    "        for i in range(len(left_func_values)):\n",
    "            if left_func_values[i] > right_func_values[i]:\n",
    "                result_distr.append(left[i])\n",
    "            elif left_func_values[i] < right_func_values[i]:\n",
    "                result_distr.append(right[i])\n",
    "            else:\n",
    "                if np.random.randint(0, 2) == 0:\n",
    "                    result_distr.append(left[i])        \n",
    "                else:\n",
    "                    result_distr.append(right[i])\n",
    "        return np.array(result_distr)\n",
    "\n",
    "\n",
    "    def _blend_dist(self, batch_distr, num_method):\n",
    "        \"\"\"\n",
    "        blending distr from left and right context\n",
    "        method 0:\n",
    "            sum two distr along left right context\n",
    "        method 1:\n",
    "            weighted sum by place of word in sentence\n",
    "        method 2:\n",
    "            only left context\n",
    "        method 3:\n",
    "            only right context\n",
    "        method 4:\n",
    "            or left or right context, select basing on \n",
    "            method 0:\n",
    "            method 1:\n",
    "            method 2:\n",
    "        method 7:\n",
    "            random side\n",
    "        \"\"\"\n",
    "        if num_method == 0:\n",
    "            return [np.sum(distr, axis=1) for distr in batch_distr]\n",
    "        \n",
    "        elif num_method == 1:\n",
    "            return [self._weighted_sum_distr_by_posistion_in_sent(distr) for distr in batch_distr]\n",
    "        \n",
    "        elif num_method == 2:\n",
    "            return [distr[:,0,:] for distr in batch_distr]\n",
    "        \n",
    "        elif num_method == 3:\n",
    "            return [distr[:,1,:] for distr in batch_distr]\n",
    "        \n",
    "        elif num_method == 4:\n",
    "            return [self._select_informative_context(distr, 0) for distr in batch_distr]\n",
    "        \n",
    "        elif num_method == 5:\n",
    "            return [self._select_informative_context(distr, 1) for distr in batch_distr]\n",
    "        \n",
    "        elif num_method == 6:\n",
    "            return [self._select_informative_context(distr, 2) for distr in batch_distr]\n",
    "        \n",
    "        elif num_method == 7:\n",
    "            return [self._select_informative_context(distr, 3) for distr in batch_distr]\n",
    "    \n",
    "    def _softmax(self, x):\n",
    "        \"\"\"Compute softmax values for each sets of scores in x.\"\"\"\n",
    "        e_x = np.exp(x - np.max(x))\n",
    "        return e_x / e_x.sum()\n",
    "    \n",
    "    def _sample_distr(self, distr):\n",
    "        \"\"\"Sampling from given distribution\"\"\"\n",
    "        threshold = np.random.random_sample()\n",
    "        i = 0\n",
    "        while threshold - distr[i] > 0:\n",
    "            threshold -= distr[i]\n",
    "            i += 1\n",
    "        return i\n",
    "    \n",
    "    def _sent_aug(self, source_sentence, distr, n_top_words, replace_freq: float=1):\n",
    "        result = []\n",
    "        my_true = 0#+\n",
    "        my_sum = 0#+\n",
    "        for i, token in enumerate(source_sentence):\n",
    "            if np.random.rand() < replace_freq:\n",
    "                words = [self.elmo_lm.get_vocab()[index] for index in self._multi_argmax(distr[i], n_top_words)]    \n",
    "                p = self._softmax([distr[i, index] for index in self._multi_argmax(distr[i], n_top_words)])\n",
    "                #result.append(words[self._sample_distr(p)])\n",
    "                word = words[self._sample_distr(p)]#+\n",
    "                result.append(word)#+\n",
    "                if token in words:#1\n",
    "                    my_true += 1#1\n",
    "                    my_sum += 1#1\n",
    "                else:#1\n",
    "                    my_sum += 1#1\n",
    "            else:\n",
    "                result.append(token)\n",
    "        self.tmp_logger.append({'true': my_true, 'sum': my_sum})#+\n",
    "        return result\n",
    "    \n",
    "    def _rand_sent_aug(self, source_sentence, distr, n_top_words, replace_freq: float=1):\n",
    "        result = []\n",
    "        my_true = 0#+\n",
    "        my_sum = 0#+\n",
    "        for i, token in enumerate(source_sentence):\n",
    "            if np.random.rand() < replace_freq:\n",
    "                words = [self.elmo_lm.get_vocab()[index] for index in self._multi_argmax(distr[i], n_top_words)]\n",
    "                #result.append(words[np.random.randint(0, len(words))])\n",
    "                word = words[np.random.randint(0, len(words))]#1\n",
    "                result.append(word)#1\n",
    "                if token in words:#1\n",
    "                    my_true += 1#1\n",
    "                    my_sum += 1#1\n",
    "                else:#1\n",
    "                    my_sum += 1#1\n",
    "            else:\n",
    "                result.append(token)\n",
    "        self.tmp_logger.append({'true': my_true, 'sum': my_sum})#+\n",
    "        return result\n",
    "\n",
    "    \n",
    "    def _batch_sent(self, batch_sent: List[str], n_top_words: int, replace_freq: float, num_method_blend: int) -> List[str]:\n",
    "        \"\"\"\n",
    "        Replaces some words in the original sentence with words from the language model with frequency p\n",
    "        Args:\n",
    "            batch_token: Sentences to be augmented \n",
    "            n_top_words: The number of the most likely words from the language model that will be considered as a replacement for the original.\n",
    "            p: frequency of replacing words\n",
    "        Returns:\n",
    "            Contains the augmented sentences\n",
    "        \"\"\"\n",
    "        batch_token    = self.tokenizer(batch_sent)\n",
    "        batch_distr = self._blend_dist(self.elmo_lm(batch_token), num_method_blend)\n",
    "        if num_method_blend != 7:\n",
    "            batch_aug_token = [self._sent_aug(batch_token[i], batch_distr[i], n_top_words, replace_freq) for i in range(len(batch_token))]\n",
    "        else:\n",
    "            batch_aug_token = [self._rand_sent_aug(batch_token[i], batch_distr[i], n_top_words, replace_freq) for i in range(len(batch_token))]\n",
    "        self.logger.append({'method': num_method_blend, **pd.DataFrame(self.tmp_logger).sum().to_dict()})\n",
    "        self.tmp_logger = []\n",
    "        return batch_aug_token        \n",
    "    \n",
    "    def __call__(self, batch_sent: List[str], n_top_words: int, replace_freq: float, num_method_blend: int):\n",
    "        batch_aug_token = self._batch_sent(batch_sent, n_top_words, replace_freq, num_method_blend)\n",
    "        return [self.detokenizer.detokenize(i, return_str=True) for i in batch_aug_token]"
   ]
  },
  {
   "cell_type": "code",
   "execution_count": 3,
   "metadata": {},
   "outputs": [
    {
     "name": "stderr",
     "output_type": "stream",
     "text": [
      "Using TensorFlow backend.\n"
     ]
    },
    {
     "name": "stdout",
     "output_type": "stream",
     "text": [
      "****************************************************************************************************\n",
      "/cephfs/home/sultanov/elmo_lm/lib/python3.6/site-packages/download/bidirectional_lms/elmo_en_news\n",
      "WARNING:tensorflow:From /cephfs/home/sultanov/elmo_lm/lib/python3.6/site-packages/bilm/training.py:217: calling squeeze (from tensorflow.python.ops.array_ops) with squeeze_dims is deprecated and will be removed in a future version.\n",
      "Instructions for updating:\n",
      "Use the `axis` argument instead\n"
     ]
    },
    {
     "name": "stderr",
     "output_type": "stream",
     "text": [
      "2018-10-23 11:26:57.692 WARNING in 'tensorflow'['tf_logging'] at line 125: From /cephfs/home/sultanov/elmo_lm/lib/python3.6/site-packages/bilm/training.py:217: calling squeeze (from tensorflow.python.ops.array_ops) with squeeze_dims is deprecated and will be removed in a future version.\n",
      "Instructions for updating:\n",
      "Use the `axis` argument instead\n"
     ]
    },
    {
     "name": "stdout",
     "output_type": "stream",
     "text": [
      "USING SKIP CONNECTIONS\n",
      "INFO:tensorflow:Restoring parameters from /cephfs/home/sultanov/elmo_lm/lib/python3.6/site-packages/download/bidirectional_lms/elmo_en_news/model.ckpt-935588\n"
     ]
    },
    {
     "name": "stderr",
     "output_type": "stream",
     "text": [
      "2018-10-23 11:26:58.228 INFO in 'tensorflow'['tf_logging'] at line 115: Restoring parameters from /cephfs/home/sultanov/elmo_lm/lib/python3.6/site-packages/download/bidirectional_lms/elmo_en_news/model.ckpt-935588\n"
     ]
    }
   ],
   "source": [
    "el = ElmoAug()"
   ]
  },
  {
   "cell_type": "code",
   "execution_count": 4,
   "metadata": {},
   "outputs": [],
   "source": [
    "test_sentences = \\\n",
    "[\"Almost half of all iPhone owners have broken their screens, not just once but an average of two times each.\",\\\n",
    "   \"i really don't understand your point.\\xa0 It seems that you are mixing apples and oranges.\",\\\n",
    "   \"shut the fuck up. you and the rest of your faggot friends should be burned at the stake\",\\\n",
    "   \"That you are an idiot who understands neither taxation nor women's health.\",\\\n",
    "   \"What on Earth is that about? Is it what's going to get him fired eventually?\",\\\n",
    "   \"This is a doctrine of constitutional interpretation that says that a constitution is organic and must be read in a broad and liberal manner so as to adapt it to changing times.\",\\\n",
    "   \"In the 2000s, music notation typically means the written expression of music notes and rhythms on paper using symbols.\",\\\n",
    "   \"Most of the mathematical notation in use today was not invented until the 16th century.[52] Before that, mathematics was written out in words, limiting mathematical discovery.\",\\\n",
    "   \"Physical geography deals with the study of processes and patterns in the natural environment like the atmosphere, hydrosphere, biosphere, and geosphere.\",\\\n",
    "   \"An autobiography is written by the person himself or herself, sometimes with the assistance of a collaborator or ghostwriter.\"]"
   ]
  },
  {
   "cell_type": "code",
   "execution_count": 5,
   "metadata": {},
   "outputs": [
    {
     "name": "stdout",
     "output_type": "stream",
     "text": [
      "CPU times: user 1d 3h 56min 13s, sys: 4h 47min 2s, total: 1d 8h 43min 15s\n",
      "Wall time: 54min 16s\n"
     ]
    }
   ],
   "source": [
    "%%time\n",
    "for blend_method in range(8):\n",
    "    el(test_sentences*10, 5, 1, blend_method)"
   ]
  },
  {
   "cell_type": "code",
   "execution_count": 6,
   "metadata": {},
   "outputs": [
    {
     "data": {
      "text/html": [
       "<div>\n",
       "<style scoped>\n",
       "    .dataframe tbody tr th:only-of-type {\n",
       "        vertical-align: middle;\n",
       "    }\n",
       "\n",
       "    .dataframe tbody tr th {\n",
       "        vertical-align: top;\n",
       "    }\n",
       "\n",
       "    .dataframe thead th {\n",
       "        text-align: right;\n",
       "    }\n",
       "</style>\n",
       "<table border=\"1\" class=\"dataframe\">\n",
       "  <thead>\n",
       "    <tr style=\"text-align: right;\">\n",
       "      <th></th>\n",
       "      <th>method</th>\n",
       "      <th>sum</th>\n",
       "      <th>true</th>\n",
       "      <th>acc</th>\n",
       "    </tr>\n",
       "  </thead>\n",
       "  <tbody>\n",
       "    <tr>\n",
       "      <th>0</th>\n",
       "      <td>0</td>\n",
       "      <td>2240</td>\n",
       "      <td>1313</td>\n",
       "      <td>0.586161</td>\n",
       "    </tr>\n",
       "    <tr>\n",
       "      <th>1</th>\n",
       "      <td>1</td>\n",
       "      <td>2240</td>\n",
       "      <td>1295</td>\n",
       "      <td>0.578125</td>\n",
       "    </tr>\n",
       "    <tr>\n",
       "      <th>2</th>\n",
       "      <td>2</td>\n",
       "      <td>2240</td>\n",
       "      <td>1074</td>\n",
       "      <td>0.479464</td>\n",
       "    </tr>\n",
       "    <tr>\n",
       "      <th>3</th>\n",
       "      <td>3</td>\n",
       "      <td>2240</td>\n",
       "      <td>1065</td>\n",
       "      <td>0.475446</td>\n",
       "    </tr>\n",
       "    <tr>\n",
       "      <th>4</th>\n",
       "      <td>4</td>\n",
       "      <td>2240</td>\n",
       "      <td>1112</td>\n",
       "      <td>0.496429</td>\n",
       "    </tr>\n",
       "    <tr>\n",
       "      <th>5</th>\n",
       "      <td>5</td>\n",
       "      <td>2240</td>\n",
       "      <td>1173</td>\n",
       "      <td>0.523661</td>\n",
       "    </tr>\n",
       "    <tr>\n",
       "      <th>6</th>\n",
       "      <td>6</td>\n",
       "      <td>2240</td>\n",
       "      <td>1077</td>\n",
       "      <td>0.480804</td>\n",
       "    </tr>\n",
       "    <tr>\n",
       "      <th>7</th>\n",
       "      <td>7</td>\n",
       "      <td>2240</td>\n",
       "      <td>1066</td>\n",
       "      <td>0.475893</td>\n",
       "    </tr>\n",
       "  </tbody>\n",
       "</table>\n",
       "</div>"
      ],
      "text/plain": [
       "   method   sum  true       acc\n",
       "0       0  2240  1313  0.586161\n",
       "1       1  2240  1295  0.578125\n",
       "2       2  2240  1074  0.479464\n",
       "3       3  2240  1065  0.475446\n",
       "4       4  2240  1112  0.496429\n",
       "5       5  2240  1173  0.523661\n",
       "6       6  2240  1077  0.480804\n",
       "7       7  2240  1066  0.475893"
      ]
     },
     "execution_count": 6,
     "metadata": {},
     "output_type": "execute_result"
    }
   ],
   "source": [
    "data = pd.DataFrame(el.logger)\n",
    "data['acc'] = data['true']/data['sum']\n",
    "data"
   ]
  },
  {
   "cell_type": "code",
   "execution_count": 7,
   "metadata": {},
   "outputs": [
    {
     "name": "stderr",
     "output_type": "stream",
     "text": [
      "2018-10-23 12:21:19.416 DEBUG in 'matplotlib'['__init__'] at line 415: CACHEDIR=/home/sultanov/.cache/matplotlib\n",
      "2018-10-23 12:21:19.418 DEBUG in 'matplotlib.font_manager'['font_manager'] at line 1359: Using fontManager instance from /home/sultanov/.cache/matplotlib/fontlist-v300.json\n",
      "2018-10-23 12:21:19.498 DEBUG in 'matplotlib.pyplot'['pyplot'] at line 211: Loaded backend module://ipykernel.pylab.backend_inline version unknown.\n",
      "2018-10-23 12:21:19.515 DEBUG in 'matplotlib.pyplot'['pyplot'] at line 211: Loaded backend module://ipykernel.pylab.backend_inline version unknown.\n"
     ]
    }
   ],
   "source": [
    "import seaborn as sns\n",
    "import matplotlib.pyplot as plt"
   ]
  },
  {
   "cell_type": "code",
   "execution_count": 13,
   "metadata": {},
   "outputs": [
    {
     "name": "stderr",
     "output_type": "stream",
     "text": [
      "2018-10-23 13:04:44.979 DEBUG in 'matplotlib.axes._base'['_base'] at line 2491: update_title_pos\n",
      "2018-10-23 13:04:45.114 DEBUG in 'matplotlib.axes._base'['_base'] at line 2491: update_title_pos\n",
      "2018-10-23 13:04:45.139 DEBUG in 'matplotlib.axes._base'['_base'] at line 2491: update_title_pos\n",
      "2018-10-23 13:04:45.253 DEBUG in 'matplotlib.axes._base'['_base'] at line 2491: update_title_pos\n",
      "2018-10-23 13:04:45.285 DEBUG in 'matplotlib.axes._base'['_base'] at line 2491: update_title_pos\n",
      "2018-10-23 13:04:45.304 DEBUG in 'matplotlib.axes._base'['_base'] at line 2491: update_title_pos\n"
     ]
    },
    {
     "data": {
      "image/png": "[encoded data removed]",
      "text/plain": [
       "<Figure size 1224x648 with 1 Axes>"
      ]
     },
     "metadata": {
      "needs_background": "light"
     },
     "output_type": "display_data"
    }
   ],
   "source": [
    "plt.figure(figsize=(17,9))\n",
    "sns.boxplot(x='acc', y='method', data=data, orient='h')\n",
    "plt.savefig('./exzA:top-5.png')"
   ]
  },
  {
   "cell_type": "code",
   "execution_count": 9,
   "metadata": {},
   "outputs": [],
   "source": [
    "from json import JSONEncoder"
   ]
  },
  {
   "cell_type": "code",
   "execution_count": 10,
   "metadata": {},
   "outputs": [],
   "source": [
    "j = JSONEncoder()"
   ]
  },
  {
   "cell_type": "code",
   "execution_count": 11,
   "metadata": {},
   "outputs": [],
   "source": [
    "with open('./A_result_exp.json', 'w') as f:\n",
    "    f.write(j.encode(el.logger))"
   ]
  },
  {
   "cell_type": "code",
   "execution_count": 12,
   "metadata": {},
   "outputs": [],
   "source": [
    "#ddd.shape == (batch:3, len_sent:4, left_right:2, vocab_size:5)\n",
    "#left = data[0][:, 0, :]\n",
    "#right = data[0][:, 1, :]\n",
    "#right.shape\n",
    "#\n",
    "#data = [np.array([[[1,1,1,1,1],[5,5,5,5,5]],[[1,1,1,1,1],[5,5,5,5,5]],\\\n",
    "#        [[1,1,1,1,1],[5,5,5,5,5]],[[1,1,1,1,1],[5,5,5,5,5]]]),\\\n",
    "#       np.array([[[1,1,1,1,1],[5,5,5,5,5]],[[1,1,1,1,1],[5,5,5,5,5]],\\\n",
    "#        [[1,1,1,1,1],[5,5,5,5,5]]]),\\\n",
    "#       np.array([[[1,1,1,1,1],[5,5,5,5,5]],[[1,1,1,1,1],[5,5,5,5,5]]])]"
   ]
  }
 ],
 "metadata": {
  "kernelspec": {
   "display_name": "Python 3",
   "language": "python",
   "name": "python3"
  },
  "language_info": {
   "codemirror_mode": {
    "name": "ipython",
    "version": 3
   },
   "file_extension": ".py",
   "mimetype": "text/x-python",
   "name": "python",
   "nbconvert_exporter": "python",
   "pygments_lexer": "ipython3",
   "version": "3.6.5"
  }
 },
 "nbformat": 4,
 "nbformat_minor": 2
}
